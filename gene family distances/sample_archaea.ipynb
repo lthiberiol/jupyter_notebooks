{
 "cells": [
  {
   "cell_type": "code",
   "execution_count": null,
   "metadata": {},
   "outputs": [],
   "source": [
    "import pandas as pd\n",
    "import ete3\n",
    "import os\n",
    "from ftplib import FTP\n",
    "import subprocess\n",
    "\n",
    "ncbi = ete3.NCBITaxa()\n",
    "\n",
    "%cd /work/clusterEvo/new_tests/archaea/"
   ]
  },
  {
   "cell_type": "code",
   "execution_count": null,
   "metadata": {},
   "outputs": [],
   "source": [
    "class cd:\n",
    "    \"\"\"\n",
    "    Context manager for changing the current working directory\n",
    "    \"\"\"\n",
    "    def __init__(self, newPath):\n",
    "        self.newPath = os.path.expanduser(newPath)\n",
    "\n",
    "    def __enter__(self):\n",
    "        self.savedPath = os.getcwd()\n",
    "        os.chdir(self.newPath)\n",
    "\n",
    "    def __exit__(self, etype, value, traceback):\n",
    "        os.chdir(self.savedPath)"
   ]
  },
  {
   "cell_type": "code",
   "execution_count": null,
   "metadata": {},
   "outputs": [],
   "source": [
    "header = 'assembly_accession bioproject biosample wgs_master refseq_category taxid species_taxid \\\n",
    "          organism_name infraspecific_name isolate version_status assembly_level release_type \\\n",
    "          genome_rep seq_rel_date asm_name submitter gbrs_paired_asm paired_asm_comp ftp_path \\\n",
    "          excluded_from_refseq relation_to_type_material'.split()\n",
    "\n",
    "genbank_summary = pd.read_csv('/work/assembly_summary_genbank.txt', \n",
    "                              sep      ='\\t', \n",
    "                              index_col=0, \n",
    "                              header   =None, \n",
    "                              names    =header, \n",
    "                              comment  ='#')"
   ]
  },
  {
   "cell_type": "code",
   "execution_count": null,
   "metadata": {},
   "outputs": [],
   "source": [
    "lineages = pd.DataFrame()\n",
    "missing_taxids = set()\n",
    "for taxid in genbank_summary.taxid.unique():\n",
    "    try:\n",
    "        taxid_lineage = ncbi.get_lineage(int(taxid))\n",
    "    except ValueError:\n",
    "        missing_taxids.add(taxid)\n",
    "    else:\n",
    "        tmp_lineage = pd.Series( {rank:taxon\n",
    "                                  for taxon, rank in ncbi.get_rank( taxid_lineage ).items()} )\n",
    "        tmp_lineage.name = taxid\n",
    "        lineages    = lineages.append(tmp_lineage)\n",
    "\n",
    "lineages.drop(columns='no rank', inplace=True)"
   ]
  },
  {
   "cell_type": "code",
   "execution_count": null,
   "metadata": {},
   "outputs": [],
   "source": [
    "# archaea_lineages = lineages.query('superkingdom ==  2157')\n",
    "# archaea_genomes  = genbank_summary.query('taxid in @archaea_lineages.index')\n",
    "# tree_10k\n",
    "# ref_genomes      = archaea_genomes.query('refseq_category == \"representative genome\"')"
   ]
  },
  {
   "cell_type": "code",
   "execution_count": null,
   "metadata": {},
   "outputs": [],
   "source": [
    "genomes_10k = pd.read_csv('10k_tree-metadata.tsv', index_col=2, sep='\\t')\n",
    "genomes_10k.rename(columns={'#genome':'genome'}, inplace=True)\n",
    "tree_10k    = ete3.Tree('10k_tree.nwk', format=1)"
   ]
  },
  {
   "cell_type": "code",
   "execution_count": null,
   "metadata": {},
   "outputs": [],
   "source": [
    "williams_archaea = pd.read_csv('williams_archaea_names', \n",
    "                               sep   ='\\t', \n",
    "                               header=None,\n",
    "                               names =['abbr', 'organism_name', 'phylum'])\n",
    "williams_archaea.head()"
   ]
  },
  {
   "cell_type": "code",
   "execution_count": null,
   "metadata": {},
   "outputs": [],
   "source": [
    "selected_archaea = pd.DataFrame(columns=genbank_summary.columns)\n",
    "for index, row in williams_archaea.iterrows():\n",
    "    summary_search = genbank_summary[genbank_summary.organism_name.str.contains(row.organism_name)]\n",
    "    \n",
    "    if not summary_search.shape[0]:\n",
    "        print(row.organism_name)\n",
    "    else:\n",
    "        if summary_search.shape[0] == 1:\n",
    "            selected_archaea = selected_archaea.append(summary_search.squeeze())\n",
    "        elif summary_search.query('refseq_category == \"representative genome\"').shape[0]:\n",
    "            selected_archaea = selected_archaea.append(summary_search.query('refseq_category == \"representative genome\"').squeeze())\n",
    "        elif summary_search.query('assembly_level == \"Complete Genome\"').shape[0]:\n",
    "            selected_archaea = selected_archaea.append(summary_search.query('assembly_level == \"Complete Genome\"').squeeze())\n",
    "        elif summary_search.query('relation_to_type_material == \"assembly from type material\"').shape[0]:\n",
    "            selected_archaea = selected_archaea.append(\n",
    "                summary_search.query('relation_to_type_material == \"assembly from type material\"'\n",
    "                                    ).squeeze())\n",
    "            print('\\t', row.organism_name)\n",
    "        else:\n",
    "            print('fuck')\n",
    "            break"
   ]
  },
  {
   "cell_type": "code",
   "execution_count": null,
   "metadata": {},
   "outputs": [],
   "source": []
  },
  {
   "cell_type": "code",
   "execution_count": null,
   "metadata": {},
   "outputs": [],
   "source": [
    "lineages_10k = pd.DataFrame()\n",
    "missing_taxids = set()\n",
    "for taxid in genomes_10k.taxid.unique():\n",
    "    try:\n",
    "        taxid_lineage = ncbi.get_lineage(int(taxid))\n",
    "    except ValueError:\n",
    "        missing_taxids.add(taxid)\n",
    "    else:\n",
    "        tmp_lineage = pd.Series( {rank:taxon\n",
    "                                  for taxon, rank in ncbi.get_rank( taxid_lineage ).items()} )\n",
    "        tmp_lineage.name = taxid\n",
    "        lineages_10k    = lineages_10k.append(tmp_lineage)\n",
    "\n",
    "lineages_10k.drop(columns='no rank', inplace=True)"
   ]
  },
  {
   "cell_type": "code",
   "execution_count": null,
   "metadata": {},
   "outputs": [],
   "source": [
    "for taxon, count in lineages_10k.query('superkingdom ==  2157')['phylum'].value_counts().items():\n",
    "    print(ncbi.translate_to_names([taxon])[0], taxon, count)"
   ]
  },
  {
   "cell_type": "code",
   "execution_count": null,
   "metadata": {},
   "outputs": [],
   "source": [
    "for taxon, count in lineages.query('superkingdom == 2157').phylum.value_counts().items():\n",
    "    print(ncbi.translate_to_names([taxon])[0], taxon, count)"
   ]
  },
  {
   "cell_type": "code",
   "execution_count": null,
   "metadata": {},
   "outputs": [],
   "source": [
    "for taxon, count in lineages.reindex(\n",
    "    index=selected_archaea.taxid.tolist()\n",
    ").phylum.value_counts().items():\n",
    "    print(ncbi.translate_to_names([taxon])[0], taxon, count)"
   ]
  },
  {
   "cell_type": "code",
   "execution_count": null,
   "metadata": {},
   "outputs": [],
   "source": [
    "missing_phyla_from_10k = [\n",
    "    'Candidatus Woesearchaeota',\n",
    "#     'Candidatus Nanohaloarchaeota',\n",
    "#     'Candidatus Diapherotrites',\n",
    "]\n",
    "\n",
    "selected_archaea = selected_archaea.append(\n",
    "    genbank_summary.loc[genomes_10k.query('phylum in @missing_phyla_from_10k').index]\n",
    ")"
   ]
  },
  {
   "cell_type": "code",
   "execution_count": null,
   "metadata": {},
   "outputs": [],
   "source": [
    "# Diapherotrites\n",
    "selected_archaea = selected_archaea.append(genbank_summary.loc['GCA_002779065.1'])"
   ]
  },
  {
   "cell_type": "code",
   "execution_count": null,
   "metadata": {},
   "outputs": [],
   "source": [
    "# Nanohaloarchaea\n",
    "selected_archaea = selected_archaea.append(genbank_summary.loc['GCA_013343275.1'])"
   ]
  },
  {
   "cell_type": "code",
   "execution_count": null,
   "metadata": {},
   "outputs": [],
   "source": [
    "# Nanoarchaeota\n",
    "selected_archaea = selected_archaea.append(genbank_summary.loc['GCA_000008085.1'])"
   ]
  },
  {
   "cell_type": "code",
   "execution_count": null,
   "metadata": {},
   "outputs": [],
   "source": [
    "# Methanomassiliicoccaceae\n",
    "selected_archaea.drop(index='GCA_000308215.1', inplace=True)\n",
    "selected_archaea = selected_archaea.append(genbank_summary.loc['GCA_009911715.1'])"
   ]
  },
  {
   "cell_type": "code",
   "execution_count": null,
   "metadata": {},
   "outputs": [],
   "source": [
    "# asgard\n",
    "asgard_phyla   = [1936272, 1706441, 1936271, 1655434]\n",
    "asgard_genomes = selected_archaea[selected_archaea.taxid.isin(lineages.query('phylum in @asgard_phyla').index)].index\n",
    "\n",
    "selected_archaea.drop(index=asgard_genomes, inplace=True)\n",
    "\n",
    "selected_archaea = selected_archaea.append(genbank_summary.loc[os.listdir('asgard_genomes/')])"
   ]
  },
  {
   "cell_type": "code",
   "execution_count": null,
   "metadata": {},
   "outputs": [],
   "source": [
    "selected_archaea.shape"
   ]
  },
  {
   "cell_type": "code",
   "execution_count": null,
   "metadata": {},
   "outputs": [],
   "source": [
    "selected_archaea_lineage = lineages.reindex(index=selected_archaea.taxid.tolist(), copy=True)\n",
    "selected_archaea_lineage.dropna(axis=1, how='all', thresh=5, inplace=True)\n",
    "\n",
    "selected_archaea_lineage = selected_archaea_lineage.applymap(\n",
    "    lambda cell: ncbi.translate_to_names([cell])[0] if pd.notnull(cell) else None\n",
    ")\n",
    "selected_archaea_lineage.sort_values('phylum', inplace=True)\n",
    "\n",
    "selected_archaea_lineage.rename(\n",
    "    index={taxid:name for taxid, name in zip(selected_archaea_lineage.index,\n",
    "                                             ncbi.translate_to_names(selected_archaea_lineage.index))}, \n",
    "    inplace=True)"
   ]
  },
  {
   "cell_type": "code",
   "execution_count": null,
   "metadata": {},
   "outputs": [],
   "source": [
    "selected_archaea_lineage.to_excel('sampled_archaea_taxonomy.xlsx')"
   ]
  },
  {
   "cell_type": "code",
   "execution_count": null,
   "metadata": {},
   "outputs": [],
   "source": [
    "ncbi_ftp = FTP('ftp.ncbi.nlm.nih.gov')\n",
    "ncbi_ftp.login()\n",
    "\n",
    "succesful_download = []\n",
    "for index, row in selected_archaea.iterrows():\n",
    "    ncbi_ftp.cwd('/')\n",
    "    path = row['ftp_path'].replace('ftp://ftp.ncbi.nlm.nih.gov/', '')\n",
    "    try:\n",
    "        ncbi_ftp.cwd(path)\n",
    "    except:\n",
    "        continue\n",
    "        \n",
    "    assembly_files = ncbi_ftp.nlst()\n",
    "    for assembly_file in assembly_files:\n",
    "#         if assembly_file.endswith('protein.faa.gz'):\n",
    "        if assembly_file.endswith('_genomic.gbff.gz'):\n",
    "            with open(f'gbk/{index}.gz', 'wb') as handle:\n",
    "                ncbi_ftp.retrbinary(\"RETR %s\" % assembly_file, handle.write)\n",
    "            succesful_download.append(index)\n",
    "            \n",
    "    with open(f'genomes/{index}.gbk', 'w') as stdout:\n",
    "        subprocess.call(['gunzip', '-c', f'gbk/{index}.gz'], stdout=stdout)\n",
    "    \n",
    "#     break\n",
    "ncbi_ftp.quit()"
   ]
  },
  {
   "cell_type": "code",
   "execution_count": null,
   "metadata": {},
   "outputs": [],
   "source": []
  },
  {
   "cell_type": "code",
   "execution_count": null,
   "metadata": {},
   "outputs": [],
   "source": []
  },
  {
   "cell_type": "code",
   "execution_count": null,
   "metadata": {},
   "outputs": [],
   "source": []
  },
  {
   "cell_type": "code",
   "execution_count": null,
   "metadata": {},
   "outputs": [],
   "source": []
  },
  {
   "cell_type": "code",
   "execution_count": null,
   "metadata": {},
   "outputs": [],
   "source": []
  },
  {
   "cell_type": "code",
   "execution_count": null,
   "metadata": {},
   "outputs": [],
   "source": [
    "for filename in os.listdir('gbk'):\n",
    "    if filename.startswith('.') or not filename.endswith('.gz'):\n",
    "        continue\n",
    "    accession = filename.replace('.gz', '')\n",
    "    with open(f'genomes/{accession}.gbk', 'w') as stdout:\n",
    "        subprocess.call(['gunzip', '-c', f'gbk/{accession}.gz'], stdout=stdout)"
   ]
  },
  {
   "cell_type": "code",
   "execution_count": null,
   "metadata": {},
   "outputs": [],
   "source": [
    "genomes_missing_cds = subprocess.getoutput('grep -L \"CDS\" genomes/*.gbk')"
   ]
  },
  {
   "cell_type": "code",
   "execution_count": null,
   "metadata": {},
   "outputs": [],
   "source": [
    "with cd('genomes/'):\n",
    "    genomes_missing_cds = subprocess.getoutput('grep -L \"CDS\" *.gbk').split()\n",
    "\n",
    "genomes_missing_cds"
   ]
  },
  {
   "cell_type": "code",
   "execution_count": null,
   "metadata": {},
   "outputs": [],
   "source": [
    "for filename in genomes_missing_cds:\n",
    "    accession = filename.replace('.gbk', '')\n",
    "\n",
    "    print(lineages.loc[selected_archaea.loc[accession, 'taxid'], 'phylum'].astype(int),\n",
    "          ncbi.translate_to_names([lineages.loc[selected_archaea.loc[accession, 'taxid'], 'phylum']])[0],\n",
    "          '\\t|\\t',\n",
    "          ncbi.translate_to_names([selected_archaea.loc[accession, 'taxid']])[0]\n",
    "         )"
   ]
  },
  {
   "cell_type": "code",
   "execution_count": null,
   "metadata": {},
   "outputs": [],
   "source": [
    "ncbi.translate_to_names([lineages.loc[selected_archaea.loc['GCA_000308215.1', 'taxid'], 'family']])[0]"
   ]
  },
  {
   "cell_type": "code",
   "execution_count": null,
   "metadata": {},
   "outputs": [],
   "source": [
    "lineages.loc[selected_archaea.loc['GCA_000308215.1', 'taxid'], 'family']"
   ]
  },
  {
   "cell_type": "code",
   "execution_count": null,
   "metadata": {},
   "outputs": [],
   "source": [
    "Methanomassiliicoccaceae = lineages[lineages['family'] == 1577788].index"
   ]
  },
  {
   "cell_type": "code",
   "execution_count": null,
   "metadata": {},
   "outputs": [],
   "source": [
    "ncbi_ftp = FTP('ftp.ncbi.nlm.nih.gov')\n",
    "ncbi_ftp.login()\n",
    "\n",
    "alternatives_with_cds = set()\n",
    "for index, row in genbank_summary.query('taxid in @Methanomassiliicoccaceae').iterrows():\n",
    "    \n",
    "    ncbi_ftp.cwd('/')\n",
    "    path = row['ftp_path'].replace('ftp://ftp.ncbi.nlm.nih.gov/', '')\n",
    "    \n",
    "    ncbi_ftp.cwd(path)\n",
    "    assembly_files = ncbi_ftp.nlst()\n",
    "    for assembly_file in assembly_files:\n",
    "        if assembly_file.endswith('protein.faa.gz'):\n",
    "            print(index)\n",
    "            alternatives_with_cds.add(index)\n",
    "            break\n",
    "\n",
    "ncbi_ftp.quit()"
   ]
  },
  {
   "cell_type": "code",
   "execution_count": null,
   "metadata": {},
   "outputs": [],
   "source": [
    "genbank_summary.loc[alternatives_with_cds, ['assembly_level', 'genome_rep', 'excluded_from_refseq']]"
   ]
  },
  {
   "cell_type": "code",
   "execution_count": null,
   "metadata": {},
   "outputs": [],
   "source": [
    "genomes_10k.query('phylum == \"Candidatus Nanohaloarchaeota\"').squeeze()"
   ]
  },
  {
   "cell_type": "code",
   "execution_count": null,
   "metadata": {},
   "outputs": [],
   "source": []
  },
  {
   "cell_type": "code",
   "execution_count": null,
   "metadata": {},
   "outputs": [],
   "source": []
  },
  {
   "cell_type": "code",
   "execution_count": null,
   "metadata": {},
   "outputs": [],
   "source": []
  },
  {
   "cell_type": "code",
   "execution_count": null,
   "metadata": {},
   "outputs": [],
   "source": []
  },
  {
   "cell_type": "code",
   "execution_count": null,
   "metadata": {},
   "outputs": [],
   "source": [
    "phyla_to_sample = [28890,   #Euryarchaeota\n",
    "                   28889,   #Crenarchaeota\n",
    "                   651137,  #Thaumarchaeota\n",
    "                   1801616, #Candidatus Woesearchaeota\n",
    "                   1978152, #Candidatus Marsarchaeota\n",
    "                   192989,  #Nanoarchaeota\n",
    "                   743725,  #Candidatus Diapherotrites\n",
    "                  ]"
   ]
  },
  {
   "cell_type": "code",
   "execution_count": null,
   "metadata": {},
   "outputs": [],
   "source": [
    "tmp_taxid = lineages.query('phylum == 1801616').index\n",
    "archaea_genomes.loc[((archaea_genomes.taxid.isin(tmp_taxid)) & \n",
    "                     (archaea_genomes.assembly_level != \"Contig\") &\n",
    "                     (~archaea_genomes.excluded_from_refseq.str.contains('low|large', na=True))),\n",
    "                    ['organism_name', 'species_taxid', 'assembly_level', 'genome_rep', 'excluded_from_refseq']]"
   ]
  }
 ],
 "metadata": {
  "kernelspec": {
   "display_name": "Python 3",
   "language": "python",
   "name": "python3"
  },
  "language_info": {
   "codemirror_mode": {
    "name": "ipython",
    "version": 3
   },
   "file_extension": ".py",
   "mimetype": "text/x-python",
   "name": "python",
   "nbconvert_exporter": "python",
   "pygments_lexer": "ipython3",
   "version": "3.7.1"
  }
 },
 "nbformat": 4,
 "nbformat_minor": 4
}
